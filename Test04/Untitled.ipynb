{
 "cells": [
  {
   "cell_type": "code",
   "execution_count": 1,
   "metadata": {
    "collapsed": true
   },
   "outputs": [],
   "source": [
    "import cv2\n",
    "import numpy as np\n",
    "import os\n",
    "from sklearn import neighbors\n",
    "import tkinter\n",
    "def loadimages(data):\n",
    "    \n",
    "    images = []\n",
    "    labels = []\n",
    "    names =[]\n",
    "    label=0\n",
    "    \n",
    "    for subdirname in os.listdir(data): #读取路径下所有的文件名称\n",
    "#         print(subdirname)\n",
    "        subjectpath = os.path.join(data,subdirname) # 合并成一个整个的文件名\n",
    "#         print(subjectpath)\n",
    "        if os.path.isdir(subjectpath): # os.path.isdir()用于判断对象是否为一个目录　\n",
    "            names.append(subdirname)\n",
    "            for filename in os.listdir(subjectpath):\n",
    "#                 print(filename)\n",
    "                imgpath = os.path.join(subjectpath,filename)\n",
    "                img = cv2.imread(imgpath,cv2.IMREAD_GRAYSCALE) # 读取灰度图片\n",
    "                images.append(img)\n",
    "                labels.append(label)\n",
    "            label += 1\n",
    "#     print(images)\n",
    "    images = np.array(images) #将列表转到数组，一张图片对应数组一行\n",
    "    labels = np.array(labels) \n",
    "    names = np.array(na)\n",
    "    return images,labels,names # images:[样本数m,像素的高度,像素的宽度]  label：编码标签  name:人物名字"
   ]
  },
  {
   "cell_type": "code",
   "execution_count": 2,
   "metadata": {
    "collapsed": false
   },
   "outputs": [
    {
     "name": "stdout",
     "output_type": "stream",
     "text": [
      "lichen\n",
      "shayi\n",
      "yangmi\n"
     ]
    }
   ],
   "source": [
    "images,labels,names = loadimages(\"D:/passport_photo/train\")"
   ]
  },
  {
   "cell_type": "code",
   "execution_count": 3,
   "metadata": {
    "collapsed": false
   },
   "outputs": [],
   "source": [
    "# re_img = cv2.resize(images[0],(480, 640))\n",
    "# hist_img = cv2.equalizeHist(re_img)\n",
    "# print(hist_img.reshape(1,-1))\n",
    "# cv2.imshow(\"image\", hist_img)\n",
    "# cv2.waitKey(0)"
   ]
  },
  {
   "cell_type": "code",
   "execution_count": 4,
   "metadata": {
    "collapsed": false
   },
   "outputs": [
    {
     "data": {
      "text/plain": [
       "(18,)"
      ]
     },
     "execution_count": 4,
     "metadata": {},
     "output_type": "execute_result"
    }
   ],
   "source": [
    "images.shape"
   ]
  },
  {
   "cell_type": "code",
   "execution_count": 5,
   "metadata": {
    "collapsed": false
   },
   "outputs": [],
   "source": [
    "def _prepare(images):\n",
    "        '''\n",
    "        图片的预处理，直方图均衡化\n",
    "        images：训练集数据，灰度图片\n",
    "        [m,height,width] m样本数 height高width宽\n",
    "        return 处理后的数据[m,n]\n",
    "        特征数n=dsize[0]*dsize[1]\n",
    "        '''\n",
    "        new_images = []\n",
    "        for image in images:\n",
    "            re_img = cv2.resize(image,(480, 640)) #  (宽，高)\n",
    "        #直方图均衡化  一般情况下直方图都是灰度图像，直方图x轴是灰度值（一般0~255），y轴就是图像中每一个灰度级对应的像素点的个数。\n",
    "        #直方图均衡化是对图像对比度效果上的一种处理，旨在使得图像整体效果均匀，黑与白之间的各个像素级之间的点更均匀一点。\n",
    "        #这种方法对于背景和前景都太亮或者太暗的图像非常有用，这种方法尤其是可以带来X光图像中更好的骨骼结构显示以及曝光过度或者曝光不足照片中更好的细节。\n",
    "            hist_img = cv2.equalizeHist(re_img)\n",
    "            hist_img = hist_img.reshape(1,-1)[0] # 数组的一行是一个人脸，维度为 ： 宽 * 高\n",
    "            \n",
    "            \n",
    "            new_images.append(hist_img)\n",
    "        new_images = np.asarray(new_images)#列表变为数组\n",
    "        return new_images"
   ]
  },
  {
   "cell_type": "code",
   "execution_count": 6,
   "metadata": {
    "collapsed": false
   },
   "outputs": [],
   "source": [
    "new_images = _prepare(images)"
   ]
  },
  {
   "cell_type": "code",
   "execution_count": 7,
   "metadata": {
    "collapsed": false
   },
   "outputs": [
    {
     "data": {
      "text/plain": [
       "array([[125, 125, 122, ..., 169, 159, 159],\n",
       "       [109, 109, 109, ...,  79,  84,  85],\n",
       "       [208, 208, 208, ..., 108, 109, 109],\n",
       "       ...,\n",
       "       [108, 108, 110, ...,  28,  28,  28],\n",
       "       [236, 236, 236, ...,  12,  12,  12],\n",
       "       [ 89,  89,  89, ...,  89,  93,  93]], dtype=uint8)"
      ]
     },
     "execution_count": 7,
     "metadata": {},
     "output_type": "execute_result"
    }
   ],
   "source": [
    "new_images"
   ]
  },
  {
   "cell_type": "code",
   "execution_count": 8,
   "metadata": {
    "collapsed": true
   },
   "outputs": [],
   "source": [
    "import sys\n",
    "sys.path.append(\"E:\\ltr_do\\Python\\Python3玩转儿机器学习\")"
   ]
  },
  {
   "cell_type": "code",
   "execution_count": 19,
   "metadata": {
    "collapsed": false
   },
   "outputs": [
    {
     "data": {
      "text/plain": [
       "PCA(copy=True, iterated_power='auto', n_components=None, random_state=None,\n",
       "  svd_solver='auto', tol=0.0, whiten=False)"
      ]
     },
     "execution_count": 19,
     "metadata": {},
     "output_type": "execute_result"
    }
   ],
   "source": [
    "from sklearn.decomposition import PCA\n",
    "from sklearn.neighbors import KNeighborsClassifier\n",
    "# def fit(X_train,y_train):\n",
    "#     '''\n",
    "#     knn\n",
    "#     x_train训练集数据，gray[m,height,width]m样本数height高width宽\n",
    "#     y_train训练集标签\n",
    "#     [m]\n",
    "#     '''\n",
    "#对图片预处理[m,n]\n",
    "X_train = new_images\n",
    "y_train = labels\n",
    "\n",
    "X_train = _prepare(X_train)\n",
    "\n",
    "pca = PCA() # 初始化的时候指定\n",
    "pca.fit(X_train)"
   ]
  },
  {
   "cell_type": "code",
   "execution_count": 20,
   "metadata": {
    "collapsed": false
   },
   "outputs": [
    {
     "data": {
      "text/plain": [
       "KNeighborsClassifier(algorithm='auto', leaf_size=30, metric='minkowski',\n",
       "           metric_params=None, n_jobs=1, n_neighbors=5, p=2,\n",
       "           weights='uniform')"
      ]
     },
     "execution_count": 20,
     "metadata": {},
     "output_type": "execute_result"
    }
   ],
   "source": [
    "X_train_reduce = pca.transform(X_train)\n",
    "\n",
    "knn_clf =  KNeighborsClassifier()\n",
    "knn_clf.fit(X_train_reduce, y_train)"
   ]
  },
  {
   "cell_type": "code",
   "execution_count": 21,
   "metadata": {
    "collapsed": false,
    "scrolled": true
   },
   "outputs": [
    {
     "data": {
      "text/plain": [
       "array(['lichen'], dtype='<U6')"
      ]
     },
     "execution_count": 21,
     "metadata": {},
     "output_type": "execute_result"
    }
   ],
   "source": [
    "lst = []\n",
    "x_test = cv2.imread(\"D:/passport_photo/test/lc.png\",cv2.IMREAD_GRAYSCALE) # 读取灰度图片\n",
    "lst.append(x_test)\n",
    "x_test = _prepare(lst)\n",
    "x_test_reduce = pca.transform(x_test)\n",
    "res = knn_clf.predict(x_test_reduce)\n",
    "names[res]"
   ]
  },
  {
   "cell_type": "code",
   "execution_count": 12,
   "metadata": {
    "collapsed": false
   },
   "outputs": [],
   "source": [
    "# def predict(self,x_test):\n",
    "#     '''\n",
    "#     x_test测试图片gray\n",
    "#     return\n",
    "#     y_pred:测试标签\n",
    "#     '''\n",
    "#     if len(x_train.shape)==2:\n",
    "#         x_test = self._prepare(x_test,axis=0)\n",
    "#     #对数据预处理[m,n]\n",
    "# x_test = cv2.imread(\"D:\\passport_photo\\test\\lc.png\",cv2.IMREAD_GRAYSCALE) # 读取灰度图片\n",
    "# x_test = _prepare(x_test)\n",
    "# #计算变换后的矩阵[m,k]\n",
    "# y_pred = _knn.predict(x_test_pca)\n",
    "# return y_predict"
   ]
  },
  {
   "cell_type": "code",
   "execution_count": 13,
   "metadata": {
    "collapsed": true
   },
   "outputs": [],
   "source": [
    "from MyML.PCA import PCA"
   ]
  },
  {
   "cell_type": "code",
   "execution_count": 14,
   "metadata": {
    "collapsed": false
   },
   "outputs": [],
   "source": [
    "a = PCA(n_components = 50)"
   ]
  },
  {
   "cell_type": "code",
   "execution_count": 15,
   "metadata": {
    "collapsed": false
   },
   "outputs": [],
   "source": [
    "from MyML.KNN import KNNClassify"
   ]
  },
  {
   "cell_type": "code",
   "execution_count": 16,
   "metadata": {
    "collapsed": false
   },
   "outputs": [],
   "source": [
    "knn = KNNClassify(k=5)"
   ]
  },
  {
   "cell_type": "code",
   "execution_count": 26,
   "metadata": {
    "collapsed": false
   },
   "outputs": [
    {
     "data": {
      "text/plain": [
       "array(['lichen', 'shayi'], dtype='<U6')"
      ]
     },
     "execution_count": 26,
     "metadata": {},
     "output_type": "execute_result"
    }
   ],
   "source": [
    "names[np.array([0,1])]"
   ]
  },
  {
   "cell_type": "code",
   "execution_count": null,
   "metadata": {
    "collapsed": false
   },
   "outputs": [],
   "source": []
  },
  {
   "cell_type": "code",
   "execution_count": null,
   "metadata": {
    "collapsed": false
   },
   "outputs": [],
   "source": []
  },
  {
   "cell_type": "code",
   "execution_count": null,
   "metadata": {
    "collapsed": false
   },
   "outputs": [],
   "source": []
  },
  {
   "cell_type": "code",
   "execution_count": null,
   "metadata": {
    "collapsed": true
   },
   "outputs": [],
   "source": []
  }
 ],
 "metadata": {
  "kernelspec": {
   "display_name": "Python [conda root]",
   "language": "python",
   "name": "conda-root-py"
  },
  "language_info": {
   "codemirror_mode": {
    "name": "ipython",
    "version": 3
   },
   "file_extension": ".py",
   "mimetype": "text/x-python",
   "name": "python",
   "nbconvert_exporter": "python",
   "pygments_lexer": "ipython3",
   "version": "3.5.6"
  }
 },
 "nbformat": 4,
 "nbformat_minor": 1
}
