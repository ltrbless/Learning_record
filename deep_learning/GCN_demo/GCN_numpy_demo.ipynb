{
 "cells": [
  {
   "cell_type": "code",
   "execution_count": 1,
   "metadata": {
    "collapsed": true
   },
   "outputs": [],
   "source": [
    "import numpy as np"
   ]
  },
  {
   "cell_type": "markdown",
   "metadata": {},
   "source": [
    "![jupyter](./picture_01.png)"
   ]
  },
  {
   "cell_type": "markdown",
   "metadata": {},
   "source": [
    "参考：https://mp.weixin.qq.com/s/sg9O761F0KHAmCPOfMW_kQ\n",
    "\n",
    "传播规则示例 : f(Hⁱ, A) = σ(AHⁱWⁱ)\n",
    "其中，Wⁱ 是第 i 层的权重矩阵，σ 是非线性激活函数（如 ReLU 函数）。权重矩阵的维度为 Fⁱ × Fⁱ⁺¹，即权重矩阵第二个维度的大小决定了下一层的特征数。如果你对卷积神经网络很熟悉，那么你会发现由于这些权重在图中的节点间共享，该操作与卷积核滤波操作类似。\n",
    "\n",
    "### 简化\n",
    "\n",
    "接下来我们在最简单的层次上研究传播规则。令：\n",
    "\n",
    "* i = 1，（约束条件 f 是作用于输入特征矩阵的函数）\n",
    "* σ 为恒等函数\n",
    "* 选择权重（约束条件： AH⁰W⁰ =AXW⁰ = AX）\n",
    "\n",
    "换言之，f(X, A) = AX。该传播规则可能过于简单，后面会补充缺失的部分。此外，AX 等价于多层感知机的输入层。"
   ]
  },
  {
   "cell_type": "code",
   "execution_count": 2,
   "metadata": {
    "collapsed": false
   },
   "outputs": [
    {
     "name": "stdout",
     "output_type": "stream",
     "text": [
      "A\n",
      " [[0. 1. 0. 0.]\n",
      " [0. 0. 1. 1.]\n",
      " [0. 1. 0. 0.]\n",
      " [1. 0. 1. 0.]]\n",
      "X\n",
      " [[ 0.  0.]\n",
      " [ 1. -1.]\n",
      " [ 2. -2.]\n",
      " [ 3. -3.]]\n",
      "AX\n",
      " [[ 1. -1.]\n",
      " [ 5. -5.]\n",
      " [ 1. -1.]\n",
      " [ 2. -2.]]\n"
     ]
    }
   ],
   "source": [
    "# 构建图\n",
    "A = np.matrix([\n",
    "    [0, 1, 0, 0],\n",
    "    [0, 0, 1, 1], \n",
    "    [0, 1, 0, 0],\n",
    "    [1, 0, 1, 0]],\n",
    "    dtype=float\n",
    ")\n",
    "# 构建 X 矩阵，基于每个节点的索引为其生成两个整数特征，这简化了本文后面手动验证矩阵运算的过程。\n",
    "X = np.matrix([\n",
    "            [i, -i]\n",
    "            for i in range(A.shape[0])\n",
    "        ], dtype=float)\n",
    "print(\"A\\n\", A)\n",
    "print(\"X\\n\", X)\n",
    "print(\"AX\\n\", A * X) #  每个节点的表征（每一行）现在是其相邻节点特征的和x\n"
   ]
  },
  {
   "cell_type": "markdown",
   "metadata": {},
   "source": [
    "### 问题\n",
    "\n",
    "你可能已经发现了其中的问题：\n",
    "\n",
    "* 节点的聚合表征不包含它自己的特征！该表征是相邻节点的特征聚合，因此只有具有自环（self-loop）的节点才会在该聚合中包含自己的特征 [1]。\n",
    "* 度大的节点在其特征表征中将具有较大的值，度小的节点将具有较小的值。这可能会导致梯度消失或梯度爆炸 [1, 2]，也会影响随机梯度下降算法（随机梯度下降算法通常被用于训练这类网络，且对每个输入特征的规模（或值的范围）都很敏感）。\n",
    "\n",
    "接下来，本文将分别对这些问题展开讨论。"
   ]
  },
  {
   "cell_type": "code",
   "execution_count": 3,
   "metadata": {
    "collapsed": false
   },
   "outputs": [
    {
     "name": "stdout",
     "output_type": "stream",
     "text": [
      "A_hat\n",
      " [[1. 1. 0. 0.]\n",
      " [0. 1. 1. 1.]\n",
      " [0. 1. 1. 0.]\n",
      " [1. 0. 1. 1.]]\n",
      "A_hat * X\n",
      " [[ 1. -1.]\n",
      " [ 6. -6.]\n",
      " [ 3. -3.]\n",
      " [ 5. -5.]]\n"
     ]
    }
   ],
   "source": [
    "# 单位阵\n",
    "I = np.matrix(np.eye(A.shape[0]))\n",
    "# 给G(V，E)加上自环\n",
    "A_hat = A + I\n",
    "print(\"A_hat\\n\", A_hat)\n",
    "print(\"A_hat * X\\n\", A_hat * X)"
   ]
  },
  {
   "cell_type": "markdown",
   "metadata": {},
   "source": [
    "### 对特征表征进行归一化处理\n",
    "\n",
    "通过将邻接矩阵 A 与度矩阵 D 的逆相乘，对其进行变换，从而通过节点的度对特征表征进行归一化。因此，我们简化后的传播规则如下：\n",
    "f(X, A) = D⁻¹AX"
   ]
  },
  {
   "cell_type": "code",
   "execution_count": 4,
   "metadata": {
    "collapsed": false
   },
   "outputs": [
    {
     "name": "stdout",
     "output_type": "stream",
     "text": [
      "D\n",
      " [[1. 0. 0. 0.]\n",
      " [0. 2. 0. 0.]\n",
      " [0. 0. 2. 0.]\n",
      " [0. 0. 0. 1.]]\n",
      "D^-1 * A\n",
      " [[0.  1.  0.  0. ]\n",
      " [0.  0.  0.5 0.5]\n",
      " [0.  0.5 0.  0. ]\n",
      " [1.  0.  1.  0. ]]\n",
      "nor_AX\n",
      " [[ 1.  -1. ]\n",
      " [ 2.5 -2.5]\n",
      " [ 0.5 -0.5]\n",
      " [ 2.  -2. ]]\n"
     ]
    }
   ],
   "source": [
    "# 求出度矩阵\n",
    "D = np.array(np.sum(A, axis=0))[0]\n",
    "D = np.matrix(np.diag(D))\n",
    "nor_AX = D**-1 * A * X \n",
    "print(\"D\\n\", D)\n",
    "print(\"D^-1 * A\\n\", D**-1 * A) # 可以观察到，邻接矩阵中每一行的权重（值）都除以该行对应节点的度。 感觉就像每一行都归一化\n",
    "print(\"nor_AX\\n\", nor_AX)"
   ]
  },
  {
   "cell_type": "markdown",
   "metadata": {},
   "source": [
    "### <center> 整合 </center>\n",
    "    现在，我们将把自环和归一化技巧结合起来。此外，我们还将重新介绍之前为了简化讨论而省略的有关权重和激活函数的操作。"
   ]
  },
  {
   "cell_type": "markdown",
   "metadata": {},
   "source": [
    "### 添加权重\n",
    "    首先要做的是应用权重。请注意，这里的 D_hat 是 A_hat = A + I 对应的度矩阵，即具有强制自环的矩阵 A 的度矩阵。"
   ]
  },
  {
   "cell_type": "code",
   "execution_count": 5,
   "metadata": {
    "collapsed": false
   },
   "outputs": [
    {
     "name": "stdout",
     "output_type": "stream",
     "text": [
      "D_hat\n",
      " [[2. 0. 0. 0.]\n",
      " [0. 3. 0. 0.]\n",
      " [0. 0. 3. 0.]\n",
      " [0. 0. 0. 2.]]\n"
     ]
    }
   ],
   "source": [
    "D_hat = np.array(np.sum(A_hat, axis=0))[0]\n",
    "D_hat = np.matrix(np.diag(D_hat))\n",
    "print(\"D_hat\\n\", D_hat)"
   ]
  },
  {
   "cell_type": "code",
   "execution_count": 6,
   "metadata": {
    "collapsed": false
   },
   "outputs": [
    {
     "data": {
      "text/plain": [
       "matrix([[ 1., -1.],\n",
       "        [ 4., -4.],\n",
       "        [ 2., -2.],\n",
       "        [ 5., -5.]])"
      ]
     },
     "execution_count": 6,
     "metadata": {},
     "output_type": "execute_result"
    }
   ],
   "source": [
    "W = np.matrix([\n",
    "             [1, -1],\n",
    "             [-1, 1]\n",
    "         ])\n",
    "D_hat**-1 * A_hat * X * W"
   ]
  },
  {
   "cell_type": "code",
   "execution_count": 7,
   "metadata": {
    "collapsed": false
   },
   "outputs": [
    {
     "data": {
      "text/plain": [
       "matrix([[1.],\n",
       "        [4.],\n",
       "        [2.],\n",
       "        [5.]])"
      ]
     },
     "execution_count": 7,
     "metadata": {},
     "output_type": "execute_result"
    }
   ],
   "source": [
    "# 如果我们想要减小输出特征表征的维度，我们可以减小权重矩阵 W 的规模：\n",
    "W = np.matrix([\n",
    "             [1],\n",
    "             [-1]\n",
    "         ])\n",
    "D_hat**-1 * A_hat * X * W"
   ]
  },
  {
   "cell_type": "markdown",
   "metadata": {},
   "source": [
    "### 添加激活函数\n",
    "\n",
    "本文选择保持特征表征的维度，并应用 ReLU 激活函数。"
   ]
  },
  {
   "cell_type": "code",
   "execution_count": 8,
   "metadata": {
    "collapsed": false
   },
   "outputs": [
    {
     "data": {
      "text/plain": [
       "matrix([[1., 0.],\n",
       "        [4., 0.],\n",
       "        [2., 0.],\n",
       "        [5., 0.]])"
      ]
     },
     "execution_count": 8,
     "metadata": {},
     "output_type": "execute_result"
    }
   ],
   "source": [
    "def relu(x):\n",
    "    return np.maximum(x, 0)\n",
    "W = np.matrix([\n",
    "             [1, -1],\n",
    "             [-1, 1]\n",
    "         ])\n",
    "t = relu(D_hat**-1 * A_hat * X * W)\n",
    "t"
   ]
  },
  {
   "cell_type": "markdown",
   "metadata": {},
   "source": [
    "- 这就是一个带有邻接矩阵、输入特征、权重和激活函数的完整隐藏层 "
   ]
  },
  {
   "cell_type": "markdown",
   "metadata": {},
   "source": [
    "## <center>在真实场景下的应用</center>\n",
    "\n",
    "最后，我们将图卷积网络应用到一个真实的图上。本文将向读者展示如何生成上文提到的特征表征。\n",
    "\n",
    "Zachary 空手道俱乐部\n",
    "\n",
    "Zachary 空手道俱乐部是一个被广泛使用的社交网络，其中的节点代表空手道俱乐部的成员，边代表成员之间的相互关系。当年，Zachary 在研究空手道俱乐部的时候，管理员和教员发生了冲突，导致俱乐部一分为二。下图显示了该网络的图表征，其中的节点标注是根据节点属于俱乐部的哪个部分而得到的，「A」和「I」分别表示属于管理员和教员阵营的节点。\n",
    "\n",
    "![jupyter](./picture_02.png)\n",
    "\n",
    "![jupyter](./picture_03.png)\n",
    "\n",
    "### 构建 GCN\n",
    "    \n",
    "接下来，我们将构建一个图卷积网络。我们并不会真正训练该网络，但是会对其进行简单的随机初始化，从而生成我们在本文开头看到的特征表征。我们将使用 networkx，它有一个可以很容易实现的 Zachary 空手道俱乐部的图表征。然后，我们将计算 A_hat 和 D_hat 矩阵。"
   ]
  },
  {
   "cell_type": "code",
   "execution_count": 9,
   "metadata": {
    "collapsed": true
   },
   "outputs": [],
   "source": [
    "from networkx import to_numpy_matrix,karate_club_graph"
   ]
  },
  {
   "cell_type": "code",
   "execution_count": 10,
   "metadata": {
    "collapsed": false
   },
   "outputs": [],
   "source": [
    "zkc = karate_club_graph()"
   ]
  },
  {
   "cell_type": "code",
   "execution_count": 11,
   "metadata": {
    "collapsed": false
   },
   "outputs": [
    {
     "name": "stdout",
     "output_type": "stream",
     "text": [
      "[0, 1, 2, 3, 4, 5, 6, 7, 8, 9, 10, 11, 12, 13, 14, 15, 16, 17, 18, 19, 20, 21, 22, 23, 24, 25, 26, 27, 28, 29, 30, 31, 32, 33]\n",
      "0  :  [1, 2, 3, 4, 5, 6, 7, 8, 10, 11, 12, 13, 17, 19, 21, 31]\n",
      "1  :  [0, 17, 2, 3, 21, 19, 7, 13, 30]\n",
      "2  :  [0, 1, 3, 32, 7, 8, 9, 27, 28, 13]\n",
      "3  :  [0, 1, 2, 7, 12, 13]\n",
      "4  :  [0, 10, 6]\n",
      "5  :  [0, 16, 10, 6]\n",
      "6  :  [0, 16, 4, 5]\n",
      "7  :  [0, 1, 2, 3]\n",
      "8  :  [0, 32, 2, 30, 33]\n",
      "9  :  [33, 2]\n",
      "10  :  [0, 4, 5]\n",
      "11  :  [0]\n",
      "12  :  [0, 3]\n",
      "13  :  [0, 1, 2, 3, 33]\n",
      "14  :  [32, 33]\n",
      "15  :  [32, 33]\n",
      "16  :  [5, 6]\n",
      "17  :  [0, 1]\n",
      "18  :  [32, 33]\n",
      "19  :  [0, 1, 33]\n",
      "20  :  [32, 33]\n",
      "21  :  [0, 1]\n",
      "22  :  [32, 33]\n",
      "23  :  [32, 25, 27, 29, 33]\n",
      "24  :  [25, 27, 31]\n",
      "25  :  [24, 31, 23]\n",
      "26  :  [33, 29]\n",
      "27  :  [24, 33, 2, 23]\n",
      "28  :  [33, 2, 31]\n",
      "29  :  [32, 33, 26, 23]\n",
      "30  :  [8, 1, 33, 32]\n",
      "31  :  [0, 32, 33, 24, 25, 28]\n",
      "32  :  [33, 2, 8, 14, 15, 18, 20, 22, 23, 29, 30, 31]\n",
      "33  :  [32, 8, 9, 13, 14, 15, 18, 19, 20, 22, 23, 26, 27, 28, 29, 30, 31]\n"
     ]
    }
   ],
   "source": [
    "print(list(zkc.node))\n",
    "for i in zkc.node :\n",
    "    print(i  , \" : \" , list(zkc[i]))"
   ]
  },
  {
   "cell_type": "code",
   "execution_count": 12,
   "metadata": {
    "collapsed": false
   },
   "outputs": [
    {
     "data": {
      "image/png": "[encoded data removed]",
      "text/plain": [
       "<matplotlib.figure.Figure at 0x1cde0df6780>"
      ]
     },
     "metadata": {},
     "output_type": "display_data"
    }
   ],
   "source": [
    "import matplotlib.pyplot as plt\n",
    "x = []\n",
    "y = []\n",
    "for i in zkc.node :\n",
    "    for j in range(len(list(zkc[i]))):\n",
    "        x.append(i)\n",
    "    for j in list(zkc[i]) :\n",
    "        y.append(j)\n",
    "plt.scatter(x, y)\n",
    "plt.show()"
   ]
  },
  {
   "cell_type": "code",
   "execution_count": 13,
   "metadata": {
    "collapsed": false
   },
   "outputs": [
    {
     "data": {
      "image/png": "[encoded data removed]",
      "text/plain": [
       "<matplotlib.figure.Figure at 0x1cde1a13f28>"
      ]
     },
     "metadata": {},
     "output_type": "display_data"
    }
   ],
   "source": [
    "import networkx as nx \n",
    "G =nx.random_graphs.barabasi_albert_graph(100,1)   #生成一个BA无标度网络G\n",
    "nx.draw(zkc)                          #绘制网络G\n",
    "plt.savefig(\"ba.png\")           #输出方式1: 将图像存为一个png格式的图片文件\n",
    "plt.show()  "
   ]
  },
  {
   "cell_type": "code",
   "execution_count": 14,
   "metadata": {
    "collapsed": false
   },
   "outputs": [
    {
     "name": "stdout",
     "output_type": "stream",
     "text": [
      "[[0. 1. 1. ... 1. 0. 0.]\n",
      " [1. 0. 1. ... 0. 0. 0.]\n",
      " [1. 1. 0. ... 0. 1. 0.]\n",
      " ...\n",
      " [1. 0. 0. ... 0. 1. 1.]\n",
      " [0. 0. 1. ... 1. 0. 1.]\n",
      " [0. 0. 0. ... 1. 1. 0.]] \n",
      "\n",
      " (34, 34)\n"
     ]
    }
   ],
   "source": [
    "order = sorted(list(zkc.nodes()))\n",
    "A = to_numpy_matrix(zkc, nodelist=order)\n",
    "print(A, \"\\n\\n\" ,A.shape)"
   ]
  },
  {
   "cell_type": "code",
   "execution_count": 15,
   "metadata": {
    "collapsed": false
   },
   "outputs": [
    {
     "data": {
      "text/plain": [
       "array([[1., 0., 0., ..., 0., 0., 0.],\n",
       "       [0., 1., 0., ..., 0., 0., 0.],\n",
       "       [0., 0., 1., ..., 0., 0., 0.],\n",
       "       ...,\n",
       "       [0., 0., 0., ..., 1., 0., 0.],\n",
       "       [0., 0., 0., ..., 0., 1., 0.],\n",
       "       [0., 0., 0., ..., 0., 0., 1.]])"
      ]
     },
     "execution_count": 15,
     "metadata": {},
     "output_type": "execute_result"
    }
   ],
   "source": [
    "I = np.eye(zkc.number_of_nodes())\n",
    "I"
   ]
  },
  {
   "cell_type": "code",
   "execution_count": 16,
   "metadata": {
    "collapsed": false
   },
   "outputs": [
    {
     "name": "stdout",
     "output_type": "stream",
     "text": [
      "[[1. 1. 1. ... 1. 0. 0.]\n",
      " [1. 1. 1. ... 0. 0. 0.]\n",
      " [1. 1. 1. ... 0. 1. 0.]\n",
      " ...\n",
      " [1. 0. 0. ... 1. 1. 1.]\n",
      " [0. 0. 1. ... 1. 1. 1.]\n",
      " [0. 0. 0. ... 1. 1. 1.]] \n",
      "\n",
      " [[17.  0.  0. ...  0.  0.  0.]\n",
      " [ 0. 10.  0. ...  0.  0.  0.]\n",
      " [ 0.  0. 11. ...  0.  0.  0.]\n",
      " ...\n",
      " [ 0.  0.  0. ...  7.  0.  0.]\n",
      " [ 0.  0.  0. ...  0. 13.  0.]\n",
      " [ 0.  0.  0. ...  0.  0. 18.]]\n"
     ]
    }
   ],
   "source": [
    "A_hat = A + I\n",
    "D_hat = np.array(np.sum(A_hat, axis=0))[0]\n",
    "D_hat = np.matrix(np.diag(D_hat))\n",
    "print(A_hat, \"\\n\\n\", D_hat)"
   ]
  },
  {
   "cell_type": "code",
   "execution_count": 21,
   "metadata": {
    "collapsed": false,
    "scrolled": true
   },
   "outputs": [
    {
     "name": "stdout",
     "output_type": "stream",
     "text": [
      "[[0.05882353 0.05882353 0.05882353 ... 0.05882353 0.         0.        ]\n",
      " [0.1        0.1        0.1        ... 0.         0.         0.        ]\n",
      " [0.09090909 0.09090909 0.09090909 ... 0.         0.09090909 0.        ]\n",
      " ...\n",
      " [0.14285714 0.         0.         ... 0.14285714 0.14285714 0.14285714]\n",
      " [0.         0.         0.07692308 ... 0.07692308 0.07692308 0.07692308]\n",
      " [0.         0.         0.         ... 0.05555556 0.05555556 0.05555556]]\n",
      "[[1.]\n",
      " [1.]\n",
      " [1.]\n",
      " [1.]\n",
      " [1.]\n",
      " [1.]\n",
      " [1.]\n",
      " [1.]\n",
      " [1.]\n",
      " [1.]\n",
      " [1.]\n",
      " [1.]\n",
      " [1.]\n",
      " [1.]\n",
      " [1.]\n",
      " [1.]\n",
      " [1.]\n",
      " [1.]\n",
      " [1.]\n",
      " [1.]\n",
      " [1.]\n",
      " [1.]\n",
      " [1.]\n",
      " [1.]\n",
      " [1.]\n",
      " [1.]\n",
      " [1.]\n",
      " [1.]\n",
      " [1.]\n",
      " [1.]\n",
      " [1.]\n",
      " [1.]\n",
      " [1.]\n",
      " [1.]]\n"
     ]
    }
   ],
   "source": [
    "print(D_hat**-1 * A_hat)\n",
    "print(np.sum(D_hat**-1 * A_hat, axis=1)) # 归一化"
   ]
  },
  {
   "cell_type": "code",
   "execution_count": 35,
   "metadata": {
    "collapsed": false,
    "scrolled": true
   },
   "outputs": [],
   "source": [
    "# 接下来，我们将随机初始化权重。\n",
    "W_1 = np.random.normal(\n",
    "    loc=0, scale=1, size=(zkc.number_of_nodes(), 4))\n",
    "W_2 = np.random.normal(\n",
    "    loc=0, size=(W_1.shape[1], 2))\n",
    "# print(W_1.shape)\n",
    "# print(\"W_1:\\n\", W_1, \"\\n\\nW_2:\\n\", W_2)"
   ]
  },
  {
   "cell_type": "code",
   "execution_count": 36,
   "metadata": {
    "collapsed": true
   },
   "outputs": [],
   "source": [
    "# 接着，我们会堆叠 GCN 层。这里，我们只使用单位矩阵作为特征表征，即每个节点被表示为一个 one-hot 编码的类别变量。\n",
    "def gcn_layer(A_hat, D_hat, X, W):\n",
    "    return relu(D_hat**-(1) * A_hat * X * W)\n",
    "H_1 = gcn_layer(A_hat, D_hat, I, W_1)\n",
    "H_2 = gcn_layer(A_hat, D_hat, H_1, W_2)\n",
    "output = H_2"
   ]
  },
  {
   "cell_type": "code",
   "execution_count": 37,
   "metadata": {
    "collapsed": false,
    "scrolled": true
   },
   "outputs": [
    {
     "data": {
      "text/plain": [
       "matrix([[0.0083533 , 0.        ],\n",
       "        [0.02513041, 0.        ],\n",
       "        [0.        , 0.03378821],\n",
       "        [0.06757558, 0.        ],\n",
       "        [0.        , 0.05475385],\n",
       "        [0.        , 0.06130483],\n",
       "        [0.        , 0.06130483],\n",
       "        [0.04521528, 0.        ],\n",
       "        [0.        , 0.25268269],\n",
       "        [0.        , 0.28726914],\n",
       "        [0.        , 0.05475385],\n",
       "        [0.05163016, 0.        ],\n",
       "        [0.04057641, 0.        ],\n",
       "        [0.05682615, 0.        ],\n",
       "        [0.        , 0.62449152],\n",
       "        [0.        , 0.97396039],\n",
       "        [0.        , 0.02916957],\n",
       "        [0.03219465, 0.        ],\n",
       "        [0.        , 0.69306926],\n",
       "        [0.03494148, 0.05027239],\n",
       "        [0.        , 0.68859782],\n",
       "        [0.02322259, 0.        ],\n",
       "        [0.        , 1.11470637],\n",
       "        [0.        , 0.77117887],\n",
       "        [0.        , 0.2287145 ],\n",
       "        [0.        , 0.31045435],\n",
       "        [0.        , 1.33967914],\n",
       "        [0.        , 0.21163096],\n",
       "        [0.        , 0.        ],\n",
       "        [0.        , 1.13607801],\n",
       "        [0.00702642, 0.21165451],\n",
       "        [0.        , 0.31925201],\n",
       "        [0.        , 0.51046114],\n",
       "        [0.        , 0.49670097]])"
      ]
     },
     "execution_count": 37,
     "metadata": {},
     "output_type": "execute_result"
    }
   ],
   "source": [
    "output"
   ]
  },
  {
   "cell_type": "markdown",
   "metadata": {},
   "source": [
    "### 可视化"
   ]
  },
  {
   "cell_type": "code",
   "execution_count": 38,
   "metadata": {
    "collapsed": true
   },
   "outputs": [],
   "source": [
    "import pandas as pd\n",
    "from pyecharts import Graph"
   ]
  },
  {
   "cell_type": "code",
   "execution_count": 74,
   "metadata": {
    "collapsed": false
   },
   "outputs": [
    {
     "name": "stdout",
     "output_type": "stream",
     "text": [
      "0.008353295952569579\n"
     ]
    }
   ],
   "source": [
    "print(float(output[0, 0]))"
   ]
  },
  {
   "cell_type": "code",
   "execution_count": 79,
   "metadata": {
    "collapsed": false
   },
   "outputs": [],
   "source": [
    "mylink = []\n",
    "node_0= []\n",
    "node_1= []\n",
    "for i in zkc.node :\n",
    "    for j in zkc[i] :\n",
    "        mylink.append({'source':str(i), 'target':str(j)})\n",
    "for i, x in enumerate(output) :\n",
    "    if float(x[:,0]) > float(x[:,1]) : #i0组\n",
    "        node_0.append({'name': str(i),# 节点名称\n",
    "                      'symbolSize': 8.0, #node 的大小\n",
    "                      'draggable': 'true',#可拖动\n",
    "                      'category': 0} # category 后面会提到\n",
    "                                )\n",
    "    else:\n",
    "        node_1.append({'name': str(i),# 节点名称\n",
    "                      'symbolSize': 8.0, #node 的大小\n",
    "                      'draggable': 'true',#可拖动\n",
    "                      'category': 1} # category 后面会提到\n",
    "                                )\n",
    "total_node = node_0 + node_1\n",
    "# node1.append({'name': 'one', #节点名称\n",
    "#   'symbolSize': 8.0, #node 的大小\n",
    "#   'draggable': 'true',#可拖动\n",
    "#   'category': 0} # category 后面会提到\n",
    "#             )"
   ]
  },
  {
   "cell_type": "code",
   "execution_count": 80,
   "metadata": {
    "collapsed": false,
    "scrolled": true
   },
   "outputs": [],
   "source": [
    "# print(list(zkc.node))\n",
    "# for i in zkc.node :\n",
    "#     print(i  , \" : \" , list(zkc[i]))"
   ]
  },
  {
   "cell_type": "code",
   "execution_count": 81,
   "metadata": {
    "collapsed": true
   },
   "outputs": [],
   "source": [
    "# 设置图片大小，名称\n",
    "graph = Graph(\"Test\", \n",
    "              width=900, \n",
    "              height=600,\n",
    "              subtitle=\"Test_sub\")\n",
    "#category需要在这边设置\n",
    "graph.add(\"Name: \", \n",
    "          total_node, \n",
    "          mylink,\n",
    "          categories = [{\n",
    "                \"name\": \"Company\",\n",
    "                \"itemStyle\": {\n",
    "                    \"normal\": {\n",
    "                        \"color\": '#0094f7', #公司颜色为蓝\n",
    "                        \"borderColor\":\"#5182ab\",\n",
    "                        \"borderWidth\":1.8\n",
    "                    }\n",
    "                }\n",
    "            }, \n",
    "              {\n",
    "                \"name\": \"supplier\",\n",
    "                \"itemStyle\": {\n",
    "                    \"normal\": {\n",
    "                        \"color\": '#f44242', #供应商颜色为红\n",
    "                        \"borderColor\":\"#5182ab\",\n",
    "                        \"borderWidth\":1.8\n",
    "                    }\n",
    "                }\n",
    "            }]\n",
    "          ,\n",
    "          is_label_show=True, \n",
    "          #graph_layout=\"force\",\n",
    "          repulsion=50,\n",
    "          #graph_edge_symbol=['cricle'],\n",
    "          label_text_color='#3d3631',\n",
    "          is_legend_show=True,\n",
    "          line_curve=0, # 如果值为0，那么关系线则没有弧度\n",
    "          opacity = 0.7)\n",
    "# use_theme('vintage')\n",
    "# graph.show_config()\n",
    "graph.render()"
   ]
  },
  {
   "cell_type": "markdown",
   "metadata": {},
   "source": [
    "![jupyter](./picture_04.png)"
   ]
  },
  {
   "cell_type": "code",
   "execution_count": null,
   "metadata": {
    "collapsed": true
   },
   "outputs": [],
   "source": []
  }
 ],
 "metadata": {
  "anaconda-cloud": {},
  "kernelspec": {
   "display_name": "Python [conda root]",
   "language": "python",
   "name": "conda-root-py"
  },
  "language_info": {
   "codemirror_mode": {
    "name": "ipython",
    "version": 3
   },
   "file_extension": ".py",
   "mimetype": "text/x-python",
   "name": "python",
   "nbconvert_exporter": "python",
   "pygments_lexer": "ipython3",
   "version": "3.5.6"
  }
 },
 "nbformat": 4,
 "nbformat_minor": 1
}
