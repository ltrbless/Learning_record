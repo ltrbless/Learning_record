{
 "cells": [
  {
   "cell_type": "code",
   "execution_count": 1,
   "metadata": {
    "collapsed": true
   },
   "outputs": [],
   "source": [
    "import pandas as pd\n",
    "from pyecharts import Graph"
   ]
  },
  {
   "cell_type": "code",
   "execution_count": 27,
   "metadata": {
    "collapsed": false
   },
   "outputs": [
    {
     "name": "stdout",
     "output_type": "stream",
     "text": [
      "[{'source': 'one', 'target': 'two'}, {'source': 'one', 'target': 'three'}] \n",
      " [{'name': 'one', 'category': 0, 'value': 1, 'draggable': 'true', 'symbolSize': 8.0}, {'name': 'two', 'category': 1, 'value': 2, 'draggable': 'true', 'symbolSize': 8.0}, {'name': 'three', 'category': 1, 'value': 2, 'draggable': 'true', 'symbolSize': 8.0}]\n"
     ]
    }
   ],
   "source": [
    "mylink = []\n",
    "mylink.append({'source':'one', 'target':'two'})\n",
    "mylink.append({'source':'one', 'target':'three'})\n",
    "node1 = []\n",
    "node1.append({'name': 'one', #公司名称\n",
    "  'symbolSize': 8.0, #node 的大小\n",
    "  'value': 1, # 供应次数\n",
    "  'draggable': 'true',#可拖动\n",
    "  'category': 0} # category 后面会提到\n",
    "            )\n",
    "node2 = [] \n",
    "node2.append({'name': 'two', #公司名称\n",
    "  'symbolSize': 8.0, #node 的大小\n",
    "  'value': 2, # 供应次数\n",
    "  'draggable': 'true',#可拖动\n",
    "  'category': 1} # category 后面会提到\n",
    "            )\n",
    "node2.append({'name': 'three', #公司名称\n",
    "  'symbolSize': 8.0, #node 的大小\n",
    "  'value': 2, # 供应次数\n",
    "  'draggable': 'true',#可拖动\n",
    "  'category': 1} # category 后面会提到\n",
    "            )\n",
    "total_node = node1 + node2\n",
    "print(mylink, \"\\n\", total_node)"
   ]
  },
  {
   "cell_type": "code",
   "execution_count": 29,
   "metadata": {
    "collapsed": false
   },
   "outputs": [],
   "source": [
    "# 设置图片大小，名称\n",
    "graph = Graph(\"Test\", \n",
    "              width=900, \n",
    "              height=600,\n",
    "              subtitle=\"Test_sub\")\n",
    "#category需要在这边设置\n",
    "graph.add(\"Name: \", \n",
    "          total_node, \n",
    "          mylink,\n",
    "          categories = [{\n",
    "                \"name\": \"Company\",\n",
    "                \"itemStyle\": {\n",
    "                    \"normal\": {\n",
    "                        \"color\": '#0094f7', #公司颜色为蓝\n",
    "                        \"borderColor\":\"#5182ab\",\n",
    "                        \"borderWidth\":1.8\n",
    "                    }\n",
    "                }\n",
    "            }, \n",
    "              {\n",
    "                \"name\": \"supplier\",\n",
    "                \"itemStyle\": {\n",
    "                    \"normal\": {\n",
    "                        \"color\": '#f44242', #供应商颜色为红\n",
    "                        \"borderColor\":\"#5182ab\",\n",
    "                        \"borderWidth\":1.8\n",
    "                    }\n",
    "                }\n",
    "            }]\n",
    "          ,\n",
    "          is_label_show=True, \n",
    "          #graph_layout=\"force\",\n",
    "          repulsion=50,\n",
    "          #graph_edge_symbol=['cricle'],\n",
    "          label_text_color='#3d3631',\n",
    "          is_legend_show=True,\n",
    "          line_curve=0, # 如果值为0，那么关系线则没有弧度\n",
    "          opacity = 0.7)\n",
    "# use_theme('vintage')\n",
    "# graph.show_config()\n",
    "graph.render()"
   ]
  },
  {
   "cell_type": "markdown",
   "metadata": {},
   "source": []
  }
 ],
 "metadata": {
  "anaconda-cloud": {},
  "kernelspec": {
   "display_name": "Python [conda root]",
   "language": "python",
   "name": "conda-root-py"
  },
  "language_info": {
   "codemirror_mode": {
    "name": "ipython",
    "version": 3
   },
   "file_extension": ".py",
   "mimetype": "text/x-python",
   "name": "python",
   "nbconvert_exporter": "python",
   "pygments_lexer": "ipython3",
   "version": "3.5.6"
  }
 },
 "nbformat": 4,
 "nbformat_minor": 1
}
