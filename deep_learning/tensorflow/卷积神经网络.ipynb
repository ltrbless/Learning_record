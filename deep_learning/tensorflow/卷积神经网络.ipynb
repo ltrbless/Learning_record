{
 "cells": [
  {
   "cell_type": "code",
   "execution_count": 1,
   "metadata": {
    "collapsed": true
   },
   "outputs": [],
   "source": [
    "# CNN非常善于对图像的特征进行提取，是权值共享的，极大的减少了各层中的参数，从而能够很好的避免反向传播的时候出现梯度消失的现象。\n",
    "import pandas as pd\n",
    "import tensorflow as tf\n",
    "import matplotlib.pyplot as plt\n",
    "from tensorflow.examples.tutorials.mnist import input_data"
   ]
  },
  {
   "cell_type": "code",
   "execution_count": 2,
   "metadata": {
    "collapsed": false
   },
   "outputs": [
    {
     "name": "stdout",
     "output_type": "stream",
     "text": [
      "WARNING:tensorflow:From <ipython-input-2-3d9f68cca8c8>:1: read_data_sets (from tensorflow.contrib.learn.python.learn.datasets.mnist) is deprecated and will be removed in a future version.\n",
      "Instructions for updating:\n",
      "Please use alternatives such as official/mnist/dataset.py from tensorflow/models.\n",
      "WARNING:tensorflow:From E:\\Anaconda3\\lib\\site-packages\\tensorflow\\contrib\\learn\\python\\learn\\datasets\\mnist.py:260: maybe_download (from tensorflow.contrib.learn.python.learn.datasets.base) is deprecated and will be removed in a future version.\n",
      "Instructions for updating:\n",
      "Please write your own downloading logic.\n",
      "WARNING:tensorflow:From E:\\Anaconda3\\lib\\site-packages\\tensorflow\\contrib\\learn\\python\\learn\\datasets\\mnist.py:262: extract_images (from tensorflow.contrib.learn.python.learn.datasets.mnist) is deprecated and will be removed in a future version.\n",
      "Instructions for updating:\n",
      "Please use tf.data to implement this functionality.\n",
      "Extracting data/train-images-idx3-ubyte.gz\n",
      "WARNING:tensorflow:From E:\\Anaconda3\\lib\\site-packages\\tensorflow\\contrib\\learn\\python\\learn\\datasets\\mnist.py:267: extract_labels (from tensorflow.contrib.learn.python.learn.datasets.mnist) is deprecated and will be removed in a future version.\n",
      "Instructions for updating:\n",
      "Please use tf.data to implement this functionality.\n",
      "Extracting data/train-labels-idx1-ubyte.gz\n",
      "WARNING:tensorflow:From E:\\Anaconda3\\lib\\site-packages\\tensorflow\\contrib\\learn\\python\\learn\\datasets\\mnist.py:110: dense_to_one_hot (from tensorflow.contrib.learn.python.learn.datasets.mnist) is deprecated and will be removed in a future version.\n",
      "Instructions for updating:\n",
      "Please use tf.one_hot on tensors.\n",
      "Extracting data/t10k-images-idx3-ubyte.gz\n",
      "Extracting data/t10k-labels-idx1-ubyte.gz\n",
      "WARNING:tensorflow:From E:\\Anaconda3\\lib\\site-packages\\tensorflow\\contrib\\learn\\python\\learn\\datasets\\mnist.py:290: DataSet.__init__ (from tensorflow.contrib.learn.python.learn.datasets.mnist) is deprecated and will be removed in a future version.\n",
      "Instructions for updating:\n",
      "Please use alternatives such as official/mnist/dataset.py from tensorflow/models.\n"
     ]
    }
   ],
   "source": [
    "mnist = input_data.read_data_sets('data/', one_hot=True)"
   ]
  },
  {
   "cell_type": "code",
   "execution_count": 3,
   "metadata": {
    "collapsed": false,
    "scrolled": true
   },
   "outputs": [
    {
     "name": "stdout",
     "output_type": "stream",
     "text": [
      "类型 :  <class 'tensorflow.contrib.learn.python.learn.datasets.base.Datasets'>\n",
      "训练数据个数 ： 55000\n",
      "测试数据个数 ： 10000\n",
      "(55000, 784)\n",
      "(55000, 10)\n",
      "(10000, 784)\n",
      "(10000, 10)\n"
     ]
    }
   ],
   "source": [
    "print(\"类型 : \", type(mnist))\n",
    "print(\"训练数据个数 ：\", mnist.train.num_examples )\n",
    "print(\"测试数据个数 ：\", mnist.test.num_examples )\n",
    "print(mnist.train.images.shape)\n",
    "print(mnist.train.labels.shape)\n",
    "print(mnist.test.images.shape)\n",
    "print(mnist.test.labels.shape)"
   ]
  },
  {
   "cell_type": "code",
   "execution_count": 4,
   "metadata": {
    "collapsed": true
   },
   "outputs": [],
   "source": [
    "learn_rate = 1e-4 # 设置学习率\n",
    "epoch = 2500 # 迭代次数\n",
    "dropout = 0.5 # 保留 50% \n",
    "batch_size = 50 # 50个图片为一组\n",
    "image_display = 10 # 每10次迭代显示一次"
   ]
  },
  {
   "cell_type": "code",
   "execution_count": 5,
   "metadata": {
    "collapsed": false
   },
   "outputs": [
    {
     "name": "stdout",
     "output_type": "stream",
     "text": [
      "[0. 0. 0. 1. 0. 0. 0. 0. 0. 0.]\n",
      "[0.         0.         0.         0.         0.         0.\n",
      " 0.         0.         0.         0.         0.         0.\n",
      " 0.         0.         0.         0.         0.         0.\n",
      " 0.         0.         0.         0.         0.         0.\n",
      " 0.         0.         0.         0.         0.         0.\n",
      " 0.         0.         0.         0.         0.         0.\n",
      " 0.         0.         0.         0.         0.         0.\n",
      " 0.         0.         0.         0.         0.         0.\n",
      " 0.         0.         0.         0.         0.         0.\n",
      " 0.         0.         0.         0.         0.         0.\n",
      " 0.         0.         0.         0.         0.         0.\n",
      " 0.         0.         0.         0.         0.         0.\n",
      " 0.         0.         0.         0.         0.         0.\n",
      " 0.         0.         0.         0.         0.         0.\n",
      " 0.         0.         0.         0.         0.         0.\n",
      " 0.         0.         0.         0.         0.         0.\n",
      " 0.         0.         0.         0.         0.         0.\n",
      " 0.         0.         0.         0.         0.         0.\n",
      " 0.         0.         0.         0.         0.         0.\n",
      " 0.         0.         0.         0.         0.         0.\n",
      " 0.         0.         0.         0.         0.         0.\n",
      " 0.         0.         0.         0.         0.         0.\n",
      " 0.         0.         0.         0.         0.         0.\n",
      " 0.         0.         0.         0.         0.         0.\n",
      " 0.         0.         0.         0.         0.         0.\n",
      " 0.         0.         0.         0.12156864 0.5176471  0.9960785\n",
      " 0.9921569  0.9960785  0.8352942  0.32156864 0.         0.\n",
      " 0.         0.         0.         0.         0.         0.\n",
      " 0.         0.         0.         0.         0.         0.\n",
      " 0.         0.         0.         0.         0.         0.08235294\n",
      " 0.5568628  0.91372555 0.98823535 0.9921569  0.98823535 0.9921569\n",
      " 0.98823535 0.8745099  0.07843138 0.         0.         0.\n",
      " 0.         0.         0.         0.         0.         0.\n",
      " 0.         0.         0.         0.         0.         0.\n",
      " 0.         0.         0.48235297 0.9960785  0.9921569  0.9960785\n",
      " 0.9921569  0.87843144 0.7960785  0.7960785  0.8745099  1.\n",
      " 0.8352942  0.         0.         0.         0.         0.\n",
      " 0.         0.         0.         0.         0.         0.\n",
      " 0.         0.         0.         0.         0.         0.\n",
      " 0.7960785  0.9921569  0.98823535 0.9921569  0.8313726  0.07843138\n",
      " 0.         0.         0.2392157  0.9921569  0.98823535 0.\n",
      " 0.         0.         0.         0.         0.         0.\n",
      " 0.         0.         0.         0.         0.         0.\n",
      " 0.         0.         0.         0.16078432 0.95294124 0.87843144\n",
      " 0.7960785  0.7176471  0.16078432 0.59607846 0.11764707 0.\n",
      " 0.         1.         0.9921569  0.40000004 0.         0.\n",
      " 0.         0.         0.         0.         0.         0.\n",
      " 0.         0.         0.         0.         0.         0.\n",
      " 0.         0.         0.15686275 0.07843138 0.         0.\n",
      " 0.40000004 0.9921569  0.19607845 0.         0.32156864 0.9921569\n",
      " 0.98823535 0.07843138 0.         0.         0.         0.\n",
      " 0.         0.         0.         0.         0.         0.\n",
      " 0.         0.         0.         0.         0.         0.\n",
      " 0.         0.         0.         0.         0.32156864 0.83921576\n",
      " 0.12156864 0.4431373  0.91372555 0.9960785  0.91372555 0.\n",
      " 0.         0.         0.         0.         0.         0.\n",
      " 0.         0.         0.         0.         0.         0.\n",
      " 0.         0.         0.         0.         0.         0.24313727\n",
      " 0.40000004 0.32156864 0.16078432 0.9921569  0.909804   0.9921569\n",
      " 0.98823535 0.91372555 0.19607845 0.         0.         0.\n",
      " 0.         0.         0.         0.         0.         0.\n",
      " 0.         0.         0.         0.         0.         0.\n",
      " 0.         0.         0.         0.59607846 0.9921569  0.9960785\n",
      " 0.9921569  0.9960785  0.9921569  0.9960785  0.91372555 0.48235297\n",
      " 0.         0.         0.         0.         0.         0.\n",
      " 0.         0.         0.         0.         0.         0.\n",
      " 0.         0.         0.         0.         0.         0.\n",
      " 0.         0.59607846 0.98823535 0.9921569  0.98823535 0.9921569\n",
      " 0.98823535 0.75294125 0.19607845 0.         0.         0.\n",
      " 0.         0.         0.         0.         0.         0.\n",
      " 0.         0.         0.         0.         0.         0.\n",
      " 0.         0.         0.         0.         0.         0.24313727\n",
      " 0.7176471  0.7960785  0.95294124 0.9960785  0.9921569  0.24313727\n",
      " 0.         0.         0.         0.         0.         0.\n",
      " 0.         0.         0.         0.         0.         0.\n",
      " 0.         0.         0.         0.         0.         0.\n",
      " 0.         0.         0.         0.         0.         0.\n",
      " 0.15686275 0.6745098  0.98823535 0.7960785  0.07843138 0.\n",
      " 0.         0.         0.         0.         0.         0.\n",
      " 0.         0.         0.         0.         0.         0.\n",
      " 0.         0.         0.08235294 0.         0.         0.\n",
      " 0.         0.         0.         0.         0.         0.\n",
      " 0.7176471  0.9960785  0.43921572 0.         0.         0.\n",
      " 0.         0.         0.         0.         0.         0.\n",
      " 0.         0.         0.         0.         0.         0.24313727\n",
      " 0.7960785  0.6392157  0.         0.         0.         0.\n",
      " 0.         0.         0.         0.         0.2392157  0.9921569\n",
      " 0.5921569  0.         0.         0.         0.         0.\n",
      " 0.         0.         0.         0.         0.         0.\n",
      " 0.         0.         0.08235294 0.83921576 0.75294125 0.\n",
      " 0.         0.         0.         0.         0.         0.\n",
      " 0.         0.04313726 0.8352942  0.9960785  0.5921569  0.\n",
      " 0.         0.         0.         0.         0.         0.\n",
      " 0.         0.         0.         0.         0.         0.\n",
      " 0.40000004 0.9921569  0.5921569  0.         0.         0.\n",
      " 0.         0.         0.         0.         0.16078432 0.8352942\n",
      " 0.98823535 0.9921569  0.43529415 0.         0.         0.\n",
      " 0.         0.         0.         0.         0.         0.\n",
      " 0.         0.         0.         0.         0.16078432 1.\n",
      " 0.8352942  0.36078432 0.20000002 0.         0.         0.12156864\n",
      " 0.36078432 0.6784314  0.9921569  0.9960785  0.9921569  0.5568628\n",
      " 0.         0.         0.         0.         0.         0.\n",
      " 0.         0.         0.         0.         0.         0.\n",
      " 0.         0.         0.         0.6745098  0.98823535 0.9921569\n",
      " 0.98823535 0.7960785  0.7960785  0.91372555 0.98823535 0.9921569\n",
      " 0.98823535 0.9921569  0.50980395 0.07843138 0.         0.\n",
      " 0.         0.         0.         0.         0.         0.\n",
      " 0.         0.         0.         0.         0.         0.\n",
      " 0.         0.08235294 0.7960785  1.         0.9921569  0.9960785\n",
      " 0.9921569  0.9960785  0.9921569  0.9568628  0.7960785  0.32156864\n",
      " 0.         0.         0.         0.         0.         0.\n",
      " 0.         0.         0.         0.         0.         0.\n",
      " 0.         0.         0.         0.         0.         0.\n",
      " 0.07843138 0.5921569  0.5921569  0.9921569  0.67058825 0.5921569\n",
      " 0.5921569  0.15686275 0.         0.         0.         0.\n",
      " 0.         0.         0.         0.         0.         0.\n",
      " 0.         0.         0.         0.         0.         0.\n",
      " 0.         0.         0.         0.         0.         0.\n",
      " 0.         0.         0.         0.         0.         0.\n",
      " 0.         0.         0.         0.         0.         0.\n",
      " 0.         0.         0.         0.         0.         0.\n",
      " 0.         0.         0.         0.         0.         0.\n",
      " 0.         0.         0.         0.         0.         0.\n",
      " 0.         0.         0.         0.         0.         0.\n",
      " 0.         0.         0.         0.         0.         0.\n",
      " 0.         0.         0.         0.         0.         0.\n",
      " 0.         0.         0.         0.         0.         0.\n",
      " 0.         0.         0.         0.         0.         0.\n",
      " 0.         0.         0.         0.         0.         0.\n",
      " 0.         0.         0.         0.         0.         0.\n",
      " 0.         0.         0.         0.        ]\n"
     ]
    }
   ],
   "source": [
    "train_image = mnist.train.images # 每个像素点已经归一化处理好了，并且[0,9]分类结果也已经进行了 one-hot 编码\n",
    "train_label = mnist.train.labels\n",
    "print(train_label[1]) # [0. 0. 0. 1. 0. 0. 0. 0. 0. 0.]  3\n",
    "print(train_image[1])"
   ]
  },
  {
   "cell_type": "code",
   "execution_count": 6,
   "metadata": {
    "collapsed": false
   },
   "outputs": [
    {
     "data": {
      "image/png": "[encoded data removed]",
      "text/plain": [
       "<matplotlib.figure.Figure at 0x16ab29f59b0>"
      ]
     },
     "metadata": {},
     "output_type": "display_data"
    }
   ],
   "source": [
    "def display(image_width, image_height, img) :\n",
    "    one_image = img.reshape(image_width, image_height)\n",
    "    plt.axis('off')\n",
    "    plt.imshow(one_image, cmap=plt.cm.binary_r)\n",
    "    plt.show()\n",
    "display(28, 28, train_image[1])"
   ]
  },
  {
   "cell_type": "code",
   "execution_count": 7,
   "metadata": {
    "collapsed": false
   },
   "outputs": [],
   "source": [
    "# 初始化权重\n",
    "def weight_variable(shape): # 生成卷积核\n",
    "    # 卷积核，要求也是一个张量，shape为 [ filter_height, filter_weight, in_channel, out_channels ]，\n",
    "    # 其中 filter_height 为卷积核高度，filter_weight 为卷积核宽度，\n",
    "    # in_channel 是图像通道数 ，和 input 的 in_channel 要保持一致，out_channel 是卷积核数量。\n",
    "    stddev=0.1\n",
    "    initial = tf.truncated_normal(shape=shape, stddev=stddev, seed=6) # stddev : 标准差 \n",
    "# 产生截断正态分布随机数，取值范围为 [ mean - 2 * stddev, mean + 2 * stddev ]\n",
    "#     truncated_normal(\n",
    "#     shape,\n",
    "#     mean=0.0,\n",
    "#     stddev=1.0,\n",
    "#     dtype=tf.float32,\n",
    "#     seed=None,\n",
    "#     name=None\n",
    "# )\n",
    "    return tf.Variable(initial_value=initial)\n",
    "\n",
    "# 初始化偏执值\n",
    "def bias_variable(shape): # 生成偏置项\n",
    "    initial = tf.constant(0.1, shape=shape)\n",
    "    return tf.Variable(initial)\n"
   ]
  },
  {
   "cell_type": "code",
   "execution_count": 8,
   "metadata": {
    "collapsed": false
   },
   "outputs": [],
   "source": [
    "def conv2d(x, W): # 卷积操作 \n",
    "    return tf.nn.conv2d(input=x, filter=W, strides=[1, 1, 1, 1], padding='SAME')\n",
    "# tf.nn.conv2d (input, filter, strides, padding, use_cudnn_on_gpu=None, data_format=None, name=None)\n",
    "# input : 输入的要做卷积的图片，要求为一个张量，shape为 [ batch, in_height, in_weight, in_channel ]，其中batch为图片的数量，in_height 为图片高度，in_weight 为图片宽度，in_channel 为图片的通道数，灰度图该值为1，彩色图为3\n",
    "# filter： 卷积核，要求也是一个张量，shape为 [ filter_height, filter_weight, in_channel, out_channels ]，其中 filter_height 为卷积核高度，filter_weight 为卷积核宽度，in_channel 是图像通道数 ，和 input 的 in_channel 要保持一致，out_channel 是卷积核数量。\n",
    "# strides： 卷积时在图像每一维的步长，这是一个一维的向量，[ 1, strides, strides, 1]，第一位和最后一位固定必须是1\n",
    "# padding： string类型，值为“SAME” 和 “VALID”，表示的是卷积的形式，是否考虑边界。\"SAME\"是考虑边界，不足的时候用0去填充周围，\"VALID\"则不考虑\n",
    "# use_cudnn_on_gpu： bool类型，是否使用cudnn加速，默认为true"
   ]
  },
  {
   "cell_type": "code",
   "execution_count": 9,
   "metadata": {
    "collapsed": false
   },
   "outputs": [],
   "source": [
    "def max_pool_2x2(x): # 池化操作  作用：1.保留主要的特征,同时减少下一层的参数和计算量，防止过拟合；2. 保持某种不变性，包括translation(平移)，rotation(旋转)，scale(尺度),常用的有mean-pooling和max-pooling。\n",
    "    return tf.nn.max_pool(x, ksize=[1,2,2,1], strides=[1,2,2,1], padding='SAME')\n",
    "# 第一个参数value：需要池化的输入，一般池化层接在卷积层后面，所以输入通常是feature map，依然是[batch, height, width, channels]这样的shape\n",
    "# 第二个参数ksize：池化窗口的大小，取一个四维向量，一般是[1, height, width, 1]，因为我们不想在batch和channels上做池化，所以这两个维度设为了1\n",
    "# 第三个参数strides：和卷积类似，窗口在每一个维度上滑动的步长，一般也是[1, stride,stride, 1]\n",
    "# 第四个参数padding：和卷积类似，可以取'VALID' 或者'SAME'"
   ]
  },
  {
   "cell_type": "code",
   "execution_count": 10,
   "metadata": {
    "collapsed": false
   },
   "outputs": [],
   "source": [
    "# 一般输入都要保证同样大小，使用placehold 相当于形参，格式化输入的数据\n",
    "image_size = len(train_image[0])\n",
    "label_size = len(train_label[0])\n",
    "x = tf.placeholder(dtype='float', shape=[None, image_size])\n",
    "y_ = tf.placeholder(dtype='float', shape=[None, label_size])"
   ]
  },
  {
   "cell_type": "code",
   "execution_count": 11,
   "metadata": {
    "collapsed": false
   },
   "outputs": [
    {
     "name": "stdout",
     "output_type": "stream",
     "text": [
      "WARNING:tensorflow:From E:\\Anaconda3\\lib\\site-packages\\tensorflow\\python\\framework\\op_def_library.py:263: colocate_with (from tensorflow.python.framework.ops) is deprecated and will be removed in a future version.\n",
      "Instructions for updating:\n",
      "Colocations handled automatically by placer.\n"
     ]
    }
   ],
   "source": [
    "# 第一层卷积\n",
    "W_conv_1 = weight_variable([5, 5, 1, 32]) # 因为手写体是黑白的，所以只需要设置通道数为 1 即可\n",
    "b_conv_1 = bias_variable([32])\n",
    "\n",
    "# (55000, 784) -> (5500, 28, 28, 1)\n",
    "image_width = 28\n",
    "image_height = 28\n",
    "image_channel = 1\n",
    "image = tf.reshape(x, [-1, image_width, image_height, image_channel])\n",
    "# print(image.get_shape()) # (?, 28, 28, 1)\n",
    "\n",
    "#卷积操作\n",
    "h_conv_1 = tf.nn.relu(conv2d(image, W_conv_1) + b_conv_1)\n",
    "# print(h_conv_1.get_shape()) # (?, 28, 28, 32)  如果设置padding=VALID 则 (?, 24, 24, 32)\n",
    "# 宽度/高度 = (输入数据的宽度 + 2 * padding - 卷积核的宽度) / 步长 + 1 # 这里的 1 是最后的一整列\n",
    "\n",
    "# 池化操作\n",
    "h_pool_1 = max_pool_2x2(h_conv_1)\n",
    "# print(h_pool_1.get_shape()) # (?, 14, 14, 32)"
   ]
  },
  {
   "cell_type": "code",
   "execution_count": 12,
   "metadata": {
    "collapsed": false
   },
   "outputs": [],
   "source": [
    "# 第二层卷积\n",
    "W_conv_2 = weight_variable([5, 5, 32, 64]) # 因为经过第一层卷积生成了32张，相当于32个通道,所以只需要设置通道数为 32 即可\n",
    "b_conv_2 = bias_variable([64])\n",
    "\n",
    "#卷积操作\n",
    "h_conv_2 = tf.nn.relu(conv2d(h_pool_1, W_conv_2) + b_conv_2)\n",
    "# print(h_conv_2.get_shape()) # (?, 28, 28, 32)-> (?, 14, 14, 64)\n",
    "# 宽度/高度 = (输入数据的宽度 + 2 * padding - 卷积核的宽度) / 步长 + 1 # 这里的 1 是最后的一整列\n",
    "\n",
    "# 池化操作\n",
    "h_pool_2 = max_pool_2x2(h_conv_2)\n",
    "# print(h_pool_2.get_shape()) # (?, 7, 7, 64)  # 由于矩阵大小变小,特征减小,所以通过 张数(通道数) 来增加特征数目"
   ]
  },
  {
   "cell_type": "code",
   "execution_count": 13,
   "metadata": {
    "collapsed": false
   },
   "outputs": [],
   "source": [
    "# 第一层全连接层\n",
    "w_all_con_1 = weight_variable([7 * 7 * 64, 1024]) # 1024是个经验取值\n",
    "b_all_con_1 = bias_variable([1024])\n",
    "\n",
    "# (?, 7, 7, 64) -> (?, 7 * 7 * 64) == (?, 3136)\n",
    "h_pool_2_flat = tf.reshape(h_pool_2, [-1, 7 * 7 * 64])\n",
    "\n",
    "h_all_con_1 = tf.nn.relu(tf.matmul(h_pool_2_flat, w_all_con_1) + b_all_con_1)\n",
    "# 加的relu层先当于第二层\n",
    "# print(h_all_con_1.get_shape()) # (?, 1024)"
   ]
  },
  {
   "cell_type": "code",
   "execution_count": 14,
   "metadata": {
    "collapsed": false
   },
   "outputs": [
    {
     "name": "stdout",
     "output_type": "stream",
     "text": [
      "WARNING:tensorflow:From <ipython-input-14-9f2f97f9a324>:3: calling dropout (from tensorflow.python.ops.nn_ops) with keep_prob is deprecated and will be removed in a future version.\n",
      "Instructions for updating:\n",
      "Please use `rate` instead of `keep_prob`. Rate should be set to `rate = 1 - keep_prob`.\n"
     ]
    }
   ],
   "source": [
    "# dropout 防止过拟合,一般加在最后一层\n",
    "keep_prob = tf.placeholder('float')\n",
    "h_all_con_drop = tf.nn.dropout(h_all_con_1, keep_prob=keep_prob)"
   ]
  },
  {
   "cell_type": "code",
   "execution_count": 15,
   "metadata": {
    "collapsed": false
   },
   "outputs": [],
   "source": [
    "# 第二层全连接层\n",
    "w_all_con_2 = weight_variable([1024, label_size])\n",
    "b_all_con_2 = bias_variable([label_size])\n",
    "\n",
    "y = tf.nn.softmax(tf.matmul(h_all_con_drop, w_all_con_2) + b_all_con_2)\n",
    "# print(y.get_shape()) # (?, 10)"
   ]
  },
  {
   "cell_type": "code",
   "execution_count": 16,
   "metadata": {
    "collapsed": true
   },
   "outputs": [],
   "source": [
    "cross_entropy = -tf.reduce_sum(y_ * tf.log(y)) # 计算交叉熵\n",
    "train_step = tf.train.GradientDescentOptimizer(learning_rate=learn_rate).minimize(cross_entropy)\n",
    "\n",
    "correct_predictioin = tf.equal(tf.argmax(y, 1), tf.argmax(y_, 1))\n",
    "accuracy = tf.reduce_mean( tf.cast(correct_predictioin, 'float') )"
   ]
  },
  {
   "cell_type": "code",
   "execution_count": 17,
   "metadata": {
    "collapsed": true
   },
   "outputs": [],
   "source": [
    "import numpy as np"
   ]
  },
  {
   "cell_type": "code",
   "execution_count": 18,
   "metadata": {
    "collapsed": false
   },
   "outputs": [],
   "source": [
    "epochs_completed = 0\n",
    "examples_num = train_image.shape[0]\n",
    "# print(num_examples) # 55000\n",
    "\n",
    "def next_batch(s):\n",
    "    \n",
    "    global train_image\n",
    "    global train_label\n",
    "    global index_in_epoch\n",
    "    global epochs_completed\n",
    "    \n",
    "    start = s * batch_size\n",
    "    end = start + batch_size\n",
    "    \n",
    "    if end > examples_num : \n",
    "        epochs_completed += 1\n",
    "        perm = np.arange(examples_num)\n",
    "        np.random.shuffle(perm)\n",
    "        train_image = train_image[perm]\n",
    "        train_label = train_label[perm]\n",
    "        start = 0\n",
    "        index_in_epoch = batch_size\n",
    "        assert batch_size <= num_examples\n",
    "        \n",
    "    return train_image[start:end], train_label[start:end]\n"
   ]
  },
  {
   "cell_type": "code",
   "execution_count": 19,
   "metadata": {
    "collapsed": true
   },
   "outputs": [],
   "source": [
    "# 初始化\n",
    "init_op = tf.global_variables_initializer()\n",
    "sess = tf.Session()\n",
    "\n",
    "sess.run(init_op)"
   ]
  },
  {
   "cell_type": "code",
   "execution_count": 20,
   "metadata": {
    "collapsed": false
   },
   "outputs": [
    {
     "name": "stdout",
     "output_type": "stream",
     "text": [
      "第0轮 \n",
      "训练集得分：0.89  测试集得分：0.86\n",
      "第1轮 \n",
      "训练集得分：0.93  测试集得分：0.92\n",
      "第2轮 \n",
      "训练集得分：0.94  测试集得分：0.94\n",
      "第3轮 \n",
      "训练集得分：0.95  测试集得分：0.96\n",
      "第4轮 \n",
      "训练集得分：0.96  测试集得分：0.96\n",
      "第5轮 \n",
      "训练集得分：0.96  测试集得分：0.97\n",
      "第6轮 \n",
      "训练集得分：0.97  测试集得分：0.96\n",
      "第7轮 \n",
      "训练集得分：0.98  测试集得分：0.96\n",
      "第8轮 \n",
      "训练集得分：0.98  测试集得分：0.96\n",
      "第9轮 \n",
      "训练集得分：0.98  测试集得分：0.96\n",
      "第10轮 \n",
      "训练集得分：0.98  测试集得分：0.96\n",
      "第11轮 \n",
      "训练集得分：0.99  测试集得分：0.96\n",
      "第12轮 \n",
      "训练集得分：0.99  测试集得分：0.96\n",
      "第13轮 \n",
      "训练集得分：0.99  测试集得分：0.96\n",
      "第14轮 \n",
      "训练集得分：1.0  测试集得分：0.96\n",
      "第15轮 \n",
      "训练集得分：1.0  测试集得分：0.96\n",
      "第16轮 \n",
      "训练集得分：1.0  测试集得分：0.96\n",
      "第17轮 \n",
      "训练集得分：1.0  测试集得分：0.96\n",
      "第18轮 \n",
      "训练集得分：1.0  测试集得分：0.96\n",
      "第19轮 \n",
      "训练集得分：1.0  测试集得分：0.96\n",
      "第20轮 \n",
      "训练集得分：1.0  测试集得分：0.96\n",
      "第21轮 \n",
      "训练集得分：1.0  测试集得分：0.96\n",
      "第22轮 \n",
      "训练集得分：1.0  测试集得分：0.96\n",
      "第23轮 \n",
      "训练集得分：1.0  测试集得分：0.96\n",
      "第24轮 \n",
      "训练集得分：1.0  测试集得分：0.96\n",
      "第25轮 \n",
      "训练集得分：1.0  测试集得分：0.96\n",
      "第26轮 \n",
      "训练集得分：1.0  测试集得分：0.96\n",
      "第27轮 \n",
      "训练集得分：1.0  测试集得分：0.97\n",
      "第28轮 \n",
      "训练集得分：1.0  测试集得分：0.97\n",
      "第29轮 \n",
      "训练集得分：1.0  测试集得分：0.97\n",
      "第30轮 \n",
      "训练集得分：1.0  测试集得分：0.97\n",
      "第31轮 \n",
      "训练集得分：1.0  测试集得分：0.97\n",
      "第32轮 \n",
      "训练集得分：1.0  测试集得分：0.97\n",
      "第33轮 \n",
      "训练集得分：1.0  测试集得分：0.97\n",
      "第34轮 \n",
      "训练集得分：1.0  测试集得分：0.97\n",
      "第35轮 \n",
      "训练集得分：1.0  测试集得分：0.97\n",
      "第36轮 \n",
      "训练集得分：1.0  测试集得分：0.97\n",
      "第37轮 \n",
      "训练集得分：1.0  测试集得分：0.97\n",
      "第38轮 \n",
      "训练集得分：1.0  测试集得分：0.97\n",
      "第39轮 \n",
      "训练集得分：1.0  测试集得分：0.97\n",
      "第40轮 \n",
      "训练集得分：1.0  测试集得分：0.97\n",
      "第41轮 \n",
      "训练集得分：1.0  测试集得分：0.97\n",
      "第42轮 \n",
      "训练集得分：1.0  测试集得分：0.97\n",
      "第43轮 \n",
      "训练集得分：1.0  测试集得分：0.97\n",
      "第44轮 \n",
      "训练集得分：1.0  测试集得分：0.97\n",
      "第45轮 \n",
      "训练集得分：1.0  测试集得分：0.98\n",
      "第46轮 \n",
      "训练集得分：1.0  测试集得分：0.98\n",
      "第47轮 \n",
      "训练集得分：1.0  测试集得分：0.98\n",
      "第48轮 \n",
      "训练集得分：1.0  测试集得分：0.98\n",
      "第49轮 \n",
      "训练集得分：1.0  测试集得分：0.98\n"
     ]
    }
   ],
   "source": [
    "# 统计数据\n",
    "train_accuracies = []\n",
    "test_accuracies = []\n",
    "x_range = []\n",
    "\n",
    "display_step = 1\n",
    "\n",
    "for i in range(50) :\n",
    "    \n",
    "    tot_batch = int(examples_num / batch_size)\n",
    "    for j in range(tot_batch - 1000) :\n",
    "        \n",
    "        # 拿到一个batch\n",
    "#         print(j)\n",
    "        batch_x,batch_y = next_batch(j)\n",
    "#         print(batch_x.shape)\n",
    "        sess.run(train_step, feed_dict={x:batch_x, y_:batch_y, keep_prob:[1.0]})\n",
    "    \n",
    "    if i % display_step == 0 :\n",
    "        print(\"第\"+ str(i) +\"轮 \"  )\n",
    "        feeds = {x : mnist.train.images[:100], y_ : mnist.train.labels[:100], keep_prob:1.0}\n",
    "        train_acc = sess.run(accuracy, feed_dict=feeds)\n",
    "        feeds = {x : mnist.test.images[:100], y_ : mnist.test.labels[:100], keep_prob:1.0}\n",
    "        test_acc = sess.run(accuracy, feed_dict=feeds)\n",
    "        print(\"训练集得分：\" + str(train_acc) + \"  \" + \"测试集得分：\" + str(test_acc))\n"
   ]
  },
  {
   "cell_type": "code",
   "execution_count": null,
   "metadata": {
    "collapsed": true
   },
   "outputs": [],
   "source": []
  }
 ],
 "metadata": {
  "anaconda-cloud": {},
  "kernelspec": {
   "display_name": "Python [conda root]",
   "language": "python",
   "name": "conda-root-py"
  },
  "language_info": {
   "codemirror_mode": {
    "name": "ipython",
    "version": 3
   },
   "file_extension": ".py",
   "mimetype": "text/x-python",
   "name": "python",
   "nbconvert_exporter": "python",
   "pygments_lexer": "ipython3",
   "version": "3.5.6"
  }
 },
 "nbformat": 4,
 "nbformat_minor": 1
}
