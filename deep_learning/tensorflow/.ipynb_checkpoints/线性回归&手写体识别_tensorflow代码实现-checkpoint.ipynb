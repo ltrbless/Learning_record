{
 "cells": [
  {
   "cell_type": "code",
   "execution_count": 1,
   "metadata": {
    "collapsed": true
   },
   "outputs": [],
   "source": [
    "import tensorflow as tf "
   ]
  },
  {
   "cell_type": "code",
   "execution_count": 2,
   "metadata": {
    "collapsed": true
   },
   "outputs": [],
   "source": [
    "a = 3 # 在tf中不可以这样"
   ]
  },
  {
   "cell_type": "code",
   "execution_count": 13,
   "metadata": {
    "collapsed": false
   },
   "outputs": [
    {
     "name": "stdout",
     "output_type": "stream",
     "text": [
      "[[2.]]\n"
     ]
    }
   ],
   "source": [
    "#Create a varible.\n",
    "w = tf.Variable([[0.5, 1.0]])\n",
    "x = tf.Variable([[2.0], [1.0]])\n",
    "\n",
    "y = tf.matmul(w, x)\n",
    "\n",
    "# variables have to be explicitly initialized before you can run \n",
    "init_op = tf.global_variables_initializer()\n",
    "with tf.Session() as sess :\n",
    "    sess.run(init_op)\n",
    "    print(y.eval())"
   ]
  },
  {
   "cell_type": "code",
   "execution_count": 15,
   "metadata": {
    "collapsed": false
   },
   "outputs": [
    {
     "name": "stdout",
     "output_type": "stream",
     "text": [
      "[[0 0 0 0]\n",
      " [0 0 0 0]\n",
      " [0 0 0 0]]\n"
     ]
    }
   ],
   "source": [
    "# float32\n",
    "import numpy as np\n",
    "mat = tf.zeros([3, 4], np.int32)\n",
    "\n",
    "init_op2 = tf.global_variables_initializer()\n",
    "with tf.Session() as sess :\n",
    "    sess.run(init_op2)\n",
    "    print(mat.eval())"
   ]
  },
  {
   "cell_type": "code",
   "execution_count": 17,
   "metadata": {
    "collapsed": false
   },
   "outputs": [
    {
     "name": "stdout",
     "output_type": "stream",
     "text": [
      "[[ 4.499954    1.0988601  -1.2193601 ]\n",
      " [-2.660518   -0.60204434  6.8280516 ]]\n",
      "[[1 2]\n",
      " [3 4]\n",
      " [5 6]]\n",
      "[[3 4]\n",
      " [1 2]\n",
      " [5 6]]\n"
     ]
    }
   ],
   "source": [
    "norm = tf.random_normal([2, 3], mean = 1, stddev=4) # 均值、标准差\n",
    "c = tf.constant([[1, 2], [3, 4], [5, 6]])\n",
    "shuff = tf.random_shuffle(c)\n",
    "\n",
    "sess = tf.Session()\n",
    "print(sess.run(norm))\n",
    "print(sess.run(c))\n",
    "print(sess.run(shuff))"
   ]
  },
  {
   "cell_type": "code",
   "execution_count": 21,
   "metadata": {
    "collapsed": false
   },
   "outputs": [
    {
     "name": "stdout",
     "output_type": "stream",
     "text": [
      "[array([14.], dtype=float32)]\n"
     ]
    }
   ],
   "source": [
    "input1 = tf.placeholder(tf.float32)\n",
    "input2 = tf.placeholder(tf.float32)\n",
    "output = tf.multiply(input1, input2)\n",
    "with tf.Session() as session:\n",
    "    print(sess.run([output], feed_dict={input1:[7.], input2:[2.]}))"
   ]
  },
  {
   "cell_type": "markdown",
   "metadata": {},
   "source": [
    "### 线性回归"
   ]
  },
  {
   "cell_type": "code",
   "execution_count": 22,
   "metadata": {
    "collapsed": true
   },
   "outputs": [],
   "source": [
    "import matplotlib.pyplot as plt"
   ]
  },
  {
   "cell_type": "code",
   "execution_count": 26,
   "metadata": {
    "collapsed": false
   },
   "outputs": [
    {
     "data": {
      "image/png": "[encoded data removed]",
      "text/plain": [
       "<matplotlib.figure.Figure at 0x1d5b5aaf2b0>"
      ]
     },
     "metadata": {},
     "output_type": "display_data"
    }
   ],
   "source": [
    "# 生成 1000 个点，围绕在 y = 0.1 * x + 0.3\n",
    "num_points = 1000\n",
    "vectors_set = []\n",
    "for i in range(num_points):\n",
    "    x1 = np.random.normal(0.0, 0.55)\n",
    "    y1 = x1 * 0.1 + 0.3 + np.random.normal(0.0, 0.03)\n",
    "    vectors_set.append([x1, y1])\n",
    "\n",
    "# 生成一些样本\n",
    "x_data = [ v[0] for v in vectors_set ]\n",
    "y_data = [ v[1] for v in vectors_set ]\n",
    "\n",
    "plt.scatter(x_data, y_data)\n",
    "plt.show()"
   ]
  },
  {
   "cell_type": "code",
   "execution_count": 47,
   "metadata": {
    "collapsed": false
   },
   "outputs": [
    {
     "name": "stdout",
     "output_type": "stream",
     "text": [
      "W =  [0.6924629]  b =  [0.]  loss =  0.19260736\n",
      "W =  [0.5255502]  b =  [0.30860704]  loss =  0.050785623\n",
      "W =  [0.40881905]  b =  [0.3061434]  loss =  0.027243547\n",
      "W =  [0.32396084]  b =  [0.30442053]  loss =  0.01480286\n",
      "W =  [0.26227382]  b =  [0.3031681]  loss =  0.008228639\n",
      "W =  [0.21743092]  b =  [0.30225763]  loss =  0.004754524\n",
      "W =  [0.1848327]  b =  [0.30159578]  loss =  0.0029186443\n",
      "W =  [0.16113569]  b =  [0.30111468]  loss =  0.001948482\n",
      "W =  [0.14390932]  b =  [0.30076492]  loss =  0.0014358044\n",
      "W =  [0.13138674]  b =  [0.30051067]  loss =  0.0011648823\n",
      "W =  [0.12228355]  b =  [0.30032584]  loss =  0.0010217148\n",
      "W =  [0.11566605]  b =  [0.3001915]  loss =  0.00094605866\n",
      "W =  [0.1108555]  b =  [0.30009383]  loss =  0.00090607844\n",
      "W =  [0.10735852]  b =  [0.3000228]  loss =  0.0008849512\n",
      "W =  [0.10481641]  b =  [0.2999712]  loss =  0.0008737866\n",
      "W =  [0.10296845]  b =  [0.29993367]  loss =  0.0008678866\n",
      "W =  [0.10162508]  b =  [0.2999064]  loss =  0.00086476887\n",
      "W =  [0.10064854]  b =  [0.29988658]  loss =  0.0008631213\n",
      "W =  [0.09993865]  b =  [0.29987216]  loss =  0.0008622506\n",
      "W =  [0.09942259]  b =  [0.2998617]  loss =  0.00086179044\n",
      "W =  [0.09904745]  b =  [0.29985407]  loss =  0.0008615475\n"
     ]
    }
   ],
   "source": [
    "# 生成一维的W矩阵，取值是[-1, 1]之间的随机数\n",
    "W = tf.Variable(tf.random_uniform([1], -1.0, 1.0), name=\"W\")\n",
    "b = tf.Variable(tf.zeros([1]), name = 'b')\n",
    "\n",
    "y = W * x_data + b\n",
    "\n",
    "# 以估计值与实际值之间的均方误差作为损失,均方误差：差值的平方和的平均数\n",
    "loss = tf.reduce_mean(tf.square(y - y_data), name='loss')\n",
    "#采用梯度下降法来优化参数\n",
    "optimizer = tf.train.GradientDescentOptimizer(0.5)\n",
    "# 训练过程最小化这个误差\n",
    "train = optimizer.minimize(loss, name = 'train')\n",
    "\n",
    "sess = tf.Session()\n",
    "\n",
    "init_op3 = tf.global_variables_initializer()\n",
    "sess.run(init_op3)\n",
    "\n",
    "#初始化时的 W 与 b\n",
    "print(\"W = \", sess.run(W), \" b = \", sess.run(b), \" loss = \", sess.run(loss))\n",
    "\n",
    "for step in range(20) :\n",
    "    sess.run(train)\n",
    "    print(\"W = \", sess.run(W), \" b = \", sess.run(b), \" loss = \", sess.run(loss))\n",
    "\n",
    "# writer = tf.train.SummarySaverHook(\"./tmp\", sess.graph)\n"
   ]
  },
  {
   "cell_type": "code",
   "execution_count": 51,
   "metadata": {
    "collapsed": false
   },
   "outputs": [
    {
     "data": {
      "image/png": "[encoded data removed]",
      "text/plain": [
       "<matplotlib.figure.Figure at 0x1d5b5be7f28>"
      ]
     },
     "metadata": {},
     "output_type": "display_data"
    }
   ],
   "source": [
    "pre_y = sess.run(W) * x_data + sess.run(b)\n",
    "plt.plot(x_data, pre_y, c='r')\n",
    "plt.scatter(x_data, y_data)\n",
    "plt.show()"
   ]
  },
  {
   "cell_type": "markdown",
   "metadata": {},
   "source": [
    "### 手写体识别"
   ]
  },
  {
   "cell_type": "code",
   "execution_count": 7,
   "metadata": {
    "collapsed": false
   },
   "outputs": [],
   "source": [
    "from tensorflow.examples.tutorials.mnist import input_data"
   ]
  },
  {
   "cell_type": "code",
   "execution_count": 8,
   "metadata": {
    "collapsed": false
   },
   "outputs": [
    {
     "name": "stdout",
     "output_type": "stream",
     "text": [
      "Extracting data/train-images-idx3-ubyte.gz\n",
      "Extracting data/train-labels-idx1-ubyte.gz\n",
      "Extracting data/t10k-images-idx3-ubyte.gz\n",
      "Extracting data/t10k-labels-idx1-ubyte.gz\n"
     ]
    }
   ],
   "source": [
    "mnist = input_data.read_data_sets('data/', one_hot=True)"
   ]
  },
  {
   "cell_type": "code",
   "execution_count": 9,
   "metadata": {
    "collapsed": false
   },
   "outputs": [
    {
     "name": "stdout",
     "output_type": "stream",
     "text": [
      "类型 :  <class 'tensorflow.contrib.learn.python.learn.datasets.base.Datasets'>\n",
      "训练数据个数 ： 55000\n",
      "测试数据个数 ： 10000\n"
     ]
    }
   ],
   "source": [
    "print(\"类型 : \", type(mnist))\n",
    "print(\"训练数据个数 ：\", mnist.train.num_examples )\n",
    "print(\"测试数据个数 ：\", mnist.test.num_examples )"
   ]
  },
  {
   "cell_type": "code",
   "execution_count": 10,
   "metadata": {
    "collapsed": false
   },
   "outputs": [
    {
     "name": "stdout",
     "output_type": "stream",
     "text": [
      "(55000, 784)\n",
      "(55000, 10)\n",
      "(10000, 784)\n",
      "(10000, 10)\n"
     ]
    }
   ],
   "source": [
    "print(mnist.train.images.shape)\n",
    "print(mnist.train.labels.shape)\n",
    "print(mnist.test.images.shape)\n",
    "print(mnist.test.labels.shape)"
   ]
  },
  {
   "cell_type": "code",
   "execution_count": 13,
   "metadata": {
    "collapsed": false
   },
   "outputs": [
    {
     "name": "stdout",
     "output_type": "stream",
     "text": [
      "初始化完成！\n"
     ]
    }
   ],
   "source": [
    "n_hidden_1 = 256 # 第一层隐藏层神经元个数\n",
    "n_hidden_2 = 128 # 第二层隐藏层神经元个数\n",
    "n_input = 784\n",
    "n_ouput = 10\n",
    "\n",
    "x = tf.placeholder(\"float\", [None, n_input]) \n",
    "y = tf.placeholder(\"float\", [None, n_ouput])\n",
    "# None 代表占位的意思\n",
    "\n",
    "stddev = 0.1\n",
    "weights = {\n",
    "    'w1':tf.Variable(tf.random_normal([n_input, n_hidden_1], stddev=stddev)),\n",
    "    'w2':tf.Variable(tf.random_normal([n_hidden_1, n_hidden_2], stddev=stddev)),\n",
    "    'out':tf.Variable(tf.random_normal([n_hidden_2, n_ouput], stddev=stddev))\n",
    "}\n",
    "biases = {\n",
    "    'b1':tf.Variable(tf.random_normal([n_hidden_1])),\n",
    "    'b2':tf.Variable(tf.random_normal([n_hidden_2])),\n",
    "    'out':tf.Variable(tf.random_normal([n_ouput]))\n",
    "}\n",
    "print(\"初始化完成！\")"
   ]
  },
  {
   "cell_type": "code",
   "execution_count": 23,
   "metadata": {
    "collapsed": false
   },
   "outputs": [
    {
     "name": "stdout",
     "output_type": "stream",
     "text": [
      "finished init \n"
     ]
    }
   ],
   "source": [
    "# 前向传播\n",
    "def multilayer_perception(_X, _weights, _biases):\n",
    "    layer_1 = tf.nn.sigmoid(tf.add(tf.matmul(_X, _weights['w1']), _biases['b1']))\n",
    "    layer_2 = tf.nn.sigmoid(tf.add(tf.matmul(layer_1, _weights['w2']), _biases['b2']))\n",
    "    return (tf.add(tf.matmul(layer_2, _weights['out']), _biases['out']))\n",
    "\n",
    "pred = multilayer_perception(x, weights, biases)\n",
    "\n",
    "#Loss and Optimizer\n",
    "loss = tf.reduce_mean(tf.nn.softmax_cross_entropy_with_logits(logits=pred, labels=y))\n",
    "optm = tf.train.GradientDescentOptimizer(learning_rate=0.001).minimize(loss)\n",
    "# 统计结果\n",
    "corr = tf.equal(tf.argmax(pred, 1), tf.argmax(y, 1)) #  axis = 1, 取出每一行最大的数的索引 -> 得到布尔类型的 ndarray \n",
    "accr = tf.reduce_mean(tf.cast(corr, \"float\")) \n",
    "test = tf.cast(corr, \"float\")\n",
    "\n",
    "# initializer\n",
    "init = tf.global_variables_initializer()\n",
    "print(\"finished init \")"
   ]
  },
  {
   "cell_type": "code",
   "execution_count": 30,
   "metadata": {
    "collapsed": false
   },
   "outputs": [
    {
     "name": "stdout",
     "output_type": "stream",
     "text": [
      "第3轮 该轮的平均损失值大小为 :2.2816651474345813\n",
      "训练集得分：0.16678181  测试集得分：0.1711\n",
      "第7轮 该轮的平均损失值大小为 :2.2470836049860172\n",
      "训练集得分：0.2987091  测试集得分：0.3093\n",
      "第11轮 该轮的平均损失值大小为 :2.210026552026922\n",
      "训练集得分：0.42261818  测试集得分：0.4397\n",
      "第15轮 该轮的平均损失值大小为 :2.1682804198698564\n",
      "训练集得分：0.53130907  测试集得分：0.5479\n",
      "第19轮 该轮的平均损失值大小为 :2.1196189217133954\n",
      "训练集得分：0.57665455  测试集得分：0.5903\n"
     ]
    }
   ],
   "source": [
    "training_epochs = 20  # 所有数据总共迭代 20 次\n",
    "batch_size = 100 # 每一批处理 100 个数据\n",
    "display_step = 4  # 设置 4 个epoch打印中间结果一次\n",
    "\n",
    "sess = tf.Session()\n",
    "sess.run(init)\n",
    "\n",
    "for epoch in range(training_epochs) :\n",
    "    avg_cost = 0\n",
    "    total_batch = int(mnist.train.num_examples / batch_size)\n",
    "    for i in range(total_batch):\n",
    "        batch_x, batch_y = mnist.train.next_batch(batch_size) # 自己的数据集需要自己实现next_batch 其实就是一个滑动窗口\n",
    "        feeds = {x : batch_x , y : batch_y}\n",
    "        # x 为 batch_size * n_input 的大小的数据 含义为: batch_size组大小为 n_input 的数据\n",
    "        sess.run(optm, feed_dict=feeds)\n",
    "        avg_cost += sess.run(loss, feed_dict=feeds)\n",
    "    avg_cost = avg_cost / total_batch # 一个 epoch下来的平均损失值大小\n",
    "    \n",
    "    if (epoch + 1) % display_step == 0 :\n",
    "        print(\"第\"+ str(epoch) +\"轮 \" + \"该轮的平均损失值大小为 :\" + str(avg_cost) )\n",
    "        feeds = {x : mnist.train.images, y : mnist.train.labels}\n",
    "        lst = sess.run(accr, feed_dict=feeds)\n",
    "        train_acc = sess.run(accr, feed_dict=feeds)\n",
    "        feeds = {x : mnist.test.images, y : mnist.test.labels}\n",
    "        test_acc = sess.run(accr, feed_dict=feeds)\n",
    "        print(\"训练集得分：\" + str(train_acc) + \"  \" + \"测试集得分：\" + str(test_acc)) # \n"
   ]
  },
  {
   "cell_type": "code",
   "execution_count": 35,
   "metadata": {
    "collapsed": false
   },
   "outputs": [
    {
     "name": "stdout",
     "output_type": "stream",
     "text": [
      "[[-0.32403028 -0.35108596 -0.14484414 -0.21976039 -0.30851233 -0.43687636\n",
      "  -0.34378594 -0.35321918 -0.21214235 -0.37090558]\n",
      " [-0.15602565 -0.25482798 -0.3301782  -0.21771035 -0.41547215 -0.3805313\n",
      "  -0.512411   -0.41374275 -0.5043347  -0.4695989 ]\n",
      " [-0.31735575 -0.14275128 -0.4255646  -0.07208582 -0.5446092  -0.34038377\n",
      "  -0.3996802  -0.33947578 -0.42339003 -0.44876143]]\n"
     ]
    }
   ],
   "source": [
    "batch_x, batch_y = mnist.train.next_batch(3) # 自己的数据集需要自己实现next_batch 其实就是一个滑动窗口\n",
    "feeds = {x : batch_x , y : batch_y}\n",
    "# x 为 batch_size * n_input 的大小的数据 含义为: batch_size组大小为 n_input 的数据\n",
    "\n",
    "# corr = tf.equal(tf.argmax(pred, 1), tf.argmax(y, 1)) #  axis = 1, 取出每一行最大的数的索引 -> 得到布尔类型的 ndarray \n",
    "# accr = tf.reduce_mean(tf.cast(corr, \"float\")) \n",
    "# test = tf.cast(corr, \"float\")\n",
    "print(sess.run(pred, feed_dict=feeds))"
   ]
  },
  {
   "cell_type": "code",
   "execution_count": 36,
   "metadata": {
    "collapsed": false
   },
   "outputs": [
    {
     "name": "stdout",
     "output_type": "stream",
     "text": [
      "[[0. 0. 0. 0. 0. 0. 0. 0. 1. 0.]\n",
      " [1. 0. 0. 0. 0. 0. 0. 0. 0. 0.]\n",
      " [0. 0. 0. 1. 0. 0. 0. 0. 0. 0.]]\n"
     ]
    }
   ],
   "source": [
    "print(sess.run(y, feed_dict=feeds))"
   ]
  },
  {
   "cell_type": "code",
   "execution_count": 37,
   "metadata": {
    "collapsed": false
   },
   "outputs": [
    {
     "name": "stdout",
     "output_type": "stream",
     "text": [
      "[0. 1. 1.]\n"
     ]
    }
   ],
   "source": [
    "print(sess.run(test, feed_dict=feeds)) # 说明第2/3张图片预测是对的"
   ]
  },
  {
   "cell_type": "code",
   "execution_count": 38,
   "metadata": {
    "collapsed": false
   },
   "outputs": [
    {
     "name": "stdout",
     "output_type": "stream",
     "text": [
      "[False  True  True]\n"
     ]
    }
   ],
   "source": [
    "print(sess.run(corr, feed_dict=feeds))"
   ]
  },
  {
   "cell_type": "code",
   "execution_count": 39,
   "metadata": {
    "collapsed": false
   },
   "outputs": [
    {
     "name": "stdout",
     "output_type": "stream",
     "text": [
      "0.6666667\n"
     ]
    }
   ],
   "source": [
    "print(sess.run(accr, feed_dict=feeds)) # 2 / 3 = 0.6 | 6循环"
   ]
  },
  {
   "cell_type": "code",
   "execution_count": null,
   "metadata": {
    "collapsed": true
   },
   "outputs": [],
   "source": []
  }
 ],
 "metadata": {
  "anaconda-cloud": {},
  "kernelspec": {
   "display_name": "Python [conda root]",
   "language": "python",
   "name": "conda-root-py"
  },
  "language_info": {
   "codemirror_mode": {
    "name": "ipython",
    "version": 3
   },
   "file_extension": ".py",
   "mimetype": "text/x-python",
   "name": "python",
   "nbconvert_exporter": "python",
   "pygments_lexer": "ipython3",
   "version": "3.5.6"
  }
 },
 "nbformat": 4,
 "nbformat_minor": 1
}
